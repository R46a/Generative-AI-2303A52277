{
  "nbformat": 4,
  "nbformat_minor": 0,
  "metadata": {
    "colab": {
      "provenance": [],
      "authorship_tag": "ABX9TyPffHa+sqFJstyYcaBPbRd4",
      "include_colab_link": true
    },
    "kernelspec": {
      "name": "python3",
      "display_name": "Python 3"
    },
    "language_info": {
      "name": "python"
    }
  },
  "cells": [
    {
      "cell_type": "markdown",
      "metadata": {
        "id": "view-in-github",
        "colab_type": "text"
      },
      "source": [
        "<a href=\"https://colab.research.google.com/github/R46a/Generative-AI-2303A52277/blob/main/GAI_W4.ipynb\" target=\"_parent\"><img src=\"https://colab.research.google.com/assets/colab-badge.svg\" alt=\"Open In Colab\"/></a>"
      ]
    },
    {
      "cell_type": "markdown",
      "source": [
        "01.Design a simple ANN architecture with one input and one output layer (no hidden\n",
        "layer). Assume a linear activation function in the output layer.\n",
        "• Write Python code for a backpropagation algorithm with gradient descent optimization to\n",
        "update weights and bias parameters of the ANN model with training data shown in Table\n",
        "1.\n",
        "• Calculate the mean square error with training and testing data shown in Table 2.\n",
        "• Write Python code that reads the input data [x1, x2, and x3] from the user. Predict the\n",
        "output with deployed ANN model\n",
        "Tabela 1: Training Data\n",
        "x1 x2 x3 y\n",
        "0.1 0.2 0.3 0.14\n",
        "0.2 0.3 0.4 0.20\n",
        "0.3 0.4 0.5 0.26\n",
        "0.5 0.6 0.7 0.38\n",
        "0.1 0.3 0.5 0.22\n",
        "0.2 0.4 0.6 0.28\n",
        "0.3 0.5 0.7 0.34\n",
        "0.4 0.6 0.8 0.40\n",
        "0.5 0.7 0.1 0.22\n",
        "Tabela 2: Test Data\n",
        "x1 x2 x3 y\n",
        "0.6 0.7 0.8 0.44\n",
        "0.7 0.8 0.9 0.50"
      ],
      "metadata": {
        "id": "SwBaXHK-Ljwh"
      }
    },
    {
      "source": [
        "import numpy as np\n",
        "\n",
        "data_train = np.array([\n",
        "    [0.1, 0.2, 0.3, 0.14],\n",
        "    [0.2, 0.3, 0.4, 0.20],\n",
        "    [0.3, 0.4, 0.5, 0.26],\n",
        "    [0.5, 0.6, 0.7, 0.38],\n",
        "    [0.1, 0.3, 0.5, 0.22],\n",
        "    [0.2, 0.4, 0.6, 0.28],\n",
        "    [0.3, 0.5, 0.7, 0.34],\n",
        "    [0.4, 0.6, 0.8, 0.40],\n",
        "    [0.5, 0.7, 0.1, 0.22]\n",
        "])\n",
        "\n",
        "data_test = np.array([\n",
        "    [0.6, 0.7, 0.8, 0.44],\n",
        "    [0.7, 0.8, 0.9, 0.50]\n",
        "])\n",
        "\n",
        "X_train = data_train[:, :3]\n",
        "y_train = data_train[:, 3]\n",
        "\n",
        "X_test = data_test[:, :3]\n",
        "y_test = data_test[:, 3]\n",
        "\n",
        "weights = np.random.rand(3)\n",
        "bias = np.random.rand(1)[0]\n",
        "learning_rate = 0.01\n",
        "num_epochs = 1000\n",
        "def linear_activation(z):\n",
        "    return z\n",
        "\n",
        "def linear_activation_derivative(z):\n",
        "    return 1\n",
        "\n",
        "def mean_squared_error(y_true, y_pred):\n",
        "    return np.mean((y_true - y_pred) ** 2)\n",
        "\n",
        "for epoch in range(num_epochs):\n",
        "    y_pred_train = linear_activation(np.dot(X_train, weights) + bias)\n",
        "\n",
        "    error = y_pred_train - y_train\n",
        "    d_weights = np.dot(X_train.T, error) / len(X_train)\n",
        "    d_bias = np.sum(error) / len(X_train)\n",
        "\n",
        "    weights -= learning_rate * d_weights\n",
        "    bias -= learning_rate * d_bias\n",
        "\n",
        "y_pred_train_final = linear_activation(np.dot(X_train, weights) + bias)\n",
        "y_pred_test_final = linear_activation(np.dot(X_test, weights) + bias)\n",
        "\n",
        "mse_train = mean_squared_error(y_train, y_pred_train_final)\n",
        "mse_test = mean_squared_error(y_test, y_pred_test_final)\n",
        "\n",
        "print(\"Final weights:\", weights)\n",
        "print(\"Final bias:\", bias)\n",
        "print(\"Training MSE:\", mse_train)\n",
        "print(\"Testing MSE:\", mse_test)\n",
        "\n",
        "user_input = np.array([float(x) for x in input(\"Enter values for x1, x2, x3 (comma-separated): \").replace(\" \", \"\").split(\",\")])\n",
        "user_prediction = linear_activation(np.dot(user_input, weights) + bias)\n",
        "print(\"Predicted output for input\", user_input, \":\", user_prediction)\n"
      ],
      "cell_type": "code",
      "metadata": {
        "colab": {
          "base_uri": "https://localhost:8080/"
        },
        "id": "mTAW_1KSDirf",
        "outputId": "ef48c6fc-33e4-41eb-af91-6c26ab18ff78"
      },
      "execution_count": null,
      "outputs": [
        {
          "output_type": "stream",
          "name": "stdout",
          "text": [
            "Final weights: [0.36217359 0.00262348 0.19999603]\n",
            "Final bias: 0.06433540897813594\n",
            "Training MSE: 0.0006207468681165776\n",
            "Testing MSE: 6.0313896953276255e-06\n"
          ]
        }
      ]
    },
    {
      "cell_type": "markdown",
      "source": [
        "02.Design a simple ANN architecture with one input and one output layer (no hidden\n",
        "layer). Assume a sigmoid activation function shown in the equation 1 in the output layer.\n",
        "f (x) = 1\n",
        "1 + e−x (1)\n",
        "• Write Python code for a backpropagation algorithm with gradient descent optimization to\n",
        "update weights and bias parameters of the ANN model with training data shown in Table\n",
        "3.Tabela 3: Training Data\n",
        "x1 x2 x3 y\n",
        "0.1 0.2 0.3 0.5349\n",
        "0.2 0.3 0.4 0.5498\n",
        "0.3 0.4 0.5 0.5646\n",
        "0.5 0.6 0.7 0.5939\n",
        "0.1 0.3 0.5 0.5548\n",
        "0.2 0.4 0.6 0.5695\n",
        "0.3 0.5 0.7 0.5842\n",
        "0.4 0.6 0.8 0.5987\n",
        "0.5 0.7 0.1 0.5548\n",
        "Tabela 4: Test Data\n",
        "x1 x2 x3 y\n",
        "0.6 0.7 0.8 0.6083\n",
        "0.7 0.8 0.9 0.6225\n",
        "• Calculate the mean square error with training and testing data shown in Table 4.\n",
        "• Write Python code that reads the input data [x1, x2, and x3] from the user. Predict the\n",
        "output with deployed ANN model\n",
        "• Expected learning Outcomes from this assignment related to python\n",
        "– Students are able to understand how backpropagation algorithm helps to update model\n",
        "parameters of ANN\n",
        "– Students are able to write code in python for backpropagation algorithm\n",
        "– Students are able to design architecture of ANN based on problem statement\n",
        "– Students are able to derive mathematical expression for change in weights and bias\n",
        "parameters for different activation functions"
      ],
      "metadata": {
        "id": "s3Ibgu87Lqj6"
      }
    },
    {
      "cell_type": "code",
      "source": [
        "\n",
        "\n",
        "import numpy as np\n",
        "\n",
        "data_train = np.array([\n",
        "    [0.1, 0.2, 0.3, 0.5349],\n",
        "    [0.2, 0.3, 0.4, 0.5498],\n",
        "    [0.3, 0.4, 0.5, 0.5646],\n",
        "    [0.5, 0.6, 0.7, 0.5939],\n",
        "    [0.1, 0.3, 0.5, 0.5548],\n",
        "    [0.2, 0.4, 0.6, 0.5695],\n",
        "    [0.3, 0.5, 0.7, 0.5842],\n",
        "    [0.4, 0.6, 0.8, 0.5987],\n",
        "    [0.5, 0.7, 0.1, 0.5548]\n",
        "])\n",
        "\n",
        "data_test = np.array([\n",
        "    [0.6, 0.7, 0.8, 0.6083],\n",
        "    [0.7, 0.8, 0.9, 0.6225]\n",
        "])\n",
        "\n",
        "X_train = data_train[:, :3]\n",
        "y_train = data_train[:, 3]\n",
        "X_test = data_test[:, :3]\n",
        "y_test = data_test[:, 3]\n",
        "\n",
        "weights = np.random.rand(3)\n",
        "bias = np.random.rand(1)[0]\n",
        "learning_rate = 0.01\n",
        "num_epochs = 1000\n",
        "\n",
        "def sigmoid(x):\n",
        "    return 1 / (1 + np.exp(-x))\n",
        "\n",
        "def sigmoid_derivative(x):\n",
        "    return x * (1 - x)\n",
        "\n",
        "def mean_squared_error(y_true, y_pred):\n",
        "    return np.mean((y_true - y_pred) ** 2)\n",
        "\n",
        "for epoch in range(num_epochs):\n",
        "\n",
        "    z = np.dot(X_train, weights) + bias\n",
        "    y_pred_train = sigmoid(z)\n",
        "\n",
        "    error = y_pred_train - y_train\n",
        "    d_weights = np.dot(X_train.T, error * sigmoid_derivative(y_pred_train)) / len(X_train)\n",
        "    d_bias = np.sum(error * sigmoid_derivative(y_pred_train)) / len(X_train)\n",
        "\n",
        "    weights -= learning_rate * d_weights\n",
        "    bias -= learning_rate * d_bias\n",
        "\n",
        "y_pred_train_final = sigmoid(np.dot(X_train, weights) + bias)\n",
        "y_pred_test_final = sigmoid(np.dot(X_test, weights) + bias)\n",
        "\n",
        "mse_train = mean_squared_error(y_train, y_pred_train_final)\n",
        "mse_test = mean_squared_error(y_test, y_pred_test_final)\n",
        "\n",
        "print(\"Final weights:\", weights)\n",
        "print(\"Final bias:\", bias)\n",
        "print(\"Training MSE:\", mse_train)\n",
        "print(\"Testing MSE:\", mse_test)\n",
        "\n",
        "user_input = np.array([float(x) for x in input(\"Enter values for x1, x2, x3 (comma-separated): \").replace(\" \", \"\").split(\",\")])\n",
        "user_prediction = sigmoid(np.dot(user_input, weights) + bias)\n",
        "print(\"Predicted output for input\", user_input, \":\", user_prediction)"
      ],
      "metadata": {
        "colab": {
          "base_uri": "https://localhost:8080/"
        },
        "id": "9_GZFeWBFmNk",
        "outputId": "779e595b-fbd3-4e8f-c240-30ad8c52f58c"
      },
      "execution_count": null,
      "outputs": [
        {
          "output_type": "stream",
          "name": "stdout",
          "text": [
            "Final weights: [0.29240749 0.32178179 0.52233251]\n",
            "Final bias: -0.06806511886165796\n",
            "Training MSE: 0.0016371830491703834\n",
            "Testing MSE: 0.005802106428558092\n",
            "Enter values for x1, x2, x3 (comma-separated): 0.1,0.2,0.3\n",
            "Predicted output for input [0.1 0.2 0.3] : 0.5454322770139413\n"
          ]
        }
      ]
    }
  ]
}