{
  "nbformat": 4,
  "nbformat_minor": 0,
  "metadata": {
    "colab": {
      "provenance": [],
      "authorship_tag": "ABX9TyMOkpflY0LKcqaMbu8cLNyp",
      "include_colab_link": true
    },
    "kernelspec": {
      "name": "python3",
      "display_name": "Python 3"
    },
    "language_info": {
      "name": "python"
    }
  },
  "cells": [
    {
      "cell_type": "markdown",
      "metadata": {
        "id": "view-in-github",
        "colab_type": "text"
      },
      "source": [
        "<a href=\"https://colab.research.google.com/github/R46a/Generative-AI-2303A52277/blob/main/GAI_W2.ipynb\" target=\"_parent\"><img src=\"https://colab.research.google.com/assets/colab-badge.svg\" alt=\"Open In Colab\"/></a>"
      ]
    },
    {
      "cell_type": "markdown",
      "source": [
        "Question-01"
      ],
      "metadata": {
        "id": "aEbEL596SWYl"
      }
    },
    {
      "cell_type": "code",
      "execution_count": 1,
      "metadata": {
        "colab": {
          "base_uri": "https://localhost:8080/"
        },
        "id": "G4aPEZ2ESNoq",
        "outputId": "39d7f4d5-bd1b-4fd6-8993-a3a9175c829d"
      },
      "outputs": [
        {
          "output_type": "stream",
          "name": "stdout",
          "text": [
            "Optimal production: A = 2, B = 3\n",
            "Maximum profit: Rs 27\n"
          ]
        }
      ],
      "source": [
        "milk = 5  # A + B <=5\n",
        "choco= 12  # 3A + 2B <= 12\n",
        "\n",
        "pA = 6  #pA+pB=6A+5B\n",
        "pB = 5\n",
        "\n",
        "max_profit = 0\n",
        "oA = 0  #oA,oB refers to the intersecting points\n",
        "oB = 0\n",
        "\n",
        "for A in range(milk+ 1):\n",
        "    for B in range(milk + 1):\n",
        "        if A + B <= milk and 3 * A + 2 * B <= choco:\n",
        "            profit = pA * A + pB * B\n",
        "            if profit > max_profit:\n",
        "                max_profit = profit\n",
        "                oA = A\n",
        "                oB = B\n",
        "\n",
        "print(f\"Optimal production: A = {oA}, B = {oB}\")\n",
        "print(f\"Maximum profit: Rs {max_profit}\")"
      ]
    },
    {
      "cell_type": "markdown",
      "source": [
        "Question-02"
      ],
      "metadata": {
        "id": "d85PCYn4SmyN"
      }
    },
    {
      "cell_type": "code",
      "source": [
        "b_lim = 700000  #b=barley\n",
        "m_lim = 1200   #m=man-days\n",
        "l_lim = 110   #l=land\n",
        "\n",
        "c_w = 7000    #c=cost\n",
        "c_b = 2000\n",
        "m_w = 10\n",
        "m_b = 30\n",
        "p_w = 50\n",
        "p_b = 120\n",
        "\n",
        "max_p = 0\n",
        "opt_w = 0\n",
        "opt_b = 0\n",
        "\n",
        "for w in range(l_lim + 1):  # Wheat\n",
        "    for b in range(l_lim + 1):  # Barley\n",
        "\n",
        "        if (w + b <= l_lim and  # Land\n",
        "            c_w * w + c_b * b <= b_lim and  # Budget\n",
        "            m_w * w + m_b * b <= m_lim):  # Man-days\n",
        "\n",
        "            p = p_w * w + p_b * b  #p=profit\n",
        "\n",
        "            if p > max_p:\n",
        "                max_p = p\n",
        "                opt_w = w\n",
        "                opt_b = b\n",
        "\n",
        "print(f\"Optimal planting: Wheat = {opt_w}, Barley = {opt_b}\")\n",
        "print(f\"Maximum profit: Rs {max_p}\")"
      ],
      "metadata": {
        "colab": {
          "base_uri": "https://localhost:8080/"
        },
        "id": "rNsDnscGSri6",
        "outputId": "a3e2fc29-f1ec-4fce-f7da-f01cce928602"
      },
      "execution_count": 2,
      "outputs": [
        {
          "output_type": "stream",
          "name": "stdout",
          "text": [
            "Optimal planting: Wheat = 96, Barley = 8\n",
            "Maximum profit: Rs 5760\n"
          ]
        }
      ]
    }
  ]
}